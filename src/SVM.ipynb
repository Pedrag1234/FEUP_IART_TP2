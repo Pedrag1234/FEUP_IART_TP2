{
 "cells": [
  {
   "cell_type": "markdown",
   "metadata": {},
   "source": [
    "# SVM\n",
    "\n",
    "Neste ficheiro encontras-se o código relacionado com a implementação da árvore de decisão e os resultados dos seus testes"
   ]
  },
  {
   "cell_type": "code",
   "execution_count": 1,
   "metadata": {},
   "outputs": [
    {
     "ename": "SyntaxError",
     "evalue": "invalid syntax (<ipython-input-1-524b7ab2935e>, line 3)",
     "output_type": "error",
     "traceback": [
      "\u001b[1;36m  File \u001b[1;32m\"<ipython-input-1-524b7ab2935e>\"\u001b[1;36m, line \u001b[1;32m3\u001b[0m\n\u001b[1;33m    Neste ficheiro encontrasse o código relacionado com a implementação da árvore de decisão e os resultados dos seus testesimport pandas as pd\u001b[0m\n\u001b[1;37m                 ^\u001b[0m\n\u001b[1;31mSyntaxError\u001b[0m\u001b[1;31m:\u001b[0m invalid syntax\n"
     ]
    }
   ],
   "source": [
    "# Árvores de Decisão\n",
    "\n",
    "Neste ficheiro encontrasse o código relacionado com a implementação da árvore de decisão e os resultados dos seus testesimport pandas as pd\n",
    "#matplotlib inline\n",
    "import matplotlib.pyplot as plt\n",
    "import seaborn as sb\n",
    "import sklearn\n",
    "from sklearn.neural_network import MLPClassifier\n",
    "from sklearn.neural_network import MLPRegressor\n",
    "\n",
    "# Import necessary modules\n",
    "from sklearn.model_selection import train_test_split\n",
    "from sklearn.metrics import mean_squared_error\n",
    "from math import sqrt\n",
    "from sklearn.metrics import r2_score\n",
    "\n",
    "covid_data = pd.read_csv('google_new3.csv',sep=\";\")\n"
   ]
  },
  {
   "cell_type": "markdown",
   "metadata": {},
   "source": [
    "## Análise de Dados\n",
    "\n",
    "Nesta secção do código realizamos um breve análise dos dados fornecidos."
   ]
  },
  {
   "cell_type": "code",
   "execution_count": null,
   "metadata": {},
   "outputs": [],
   "source": [
    "str_column =['iso','country','residential']\n",
    "target_column = ['total_cases','fatalities'] \n",
    "predictors = list(set(list(covid_data.columns))-set(target_column)-set(str_column))\n",
    "covid_data[predictors] = covid_data[predictors]\n",
    "print(covid_data.columns)\n",
    "covid_data.describe().transpose()"
   ]
  },
  {
   "cell_type": "markdown",
   "metadata": {},
   "source": [
    "### Agrupamento de Dados\n",
    "\n",
    "Agrupamos os dados dos vários países por continente"
   ]
  },
  {
   "cell_type": "code",
   "execution_count": null,
   "metadata": {},
   "outputs": [],
   "source": [
    "EU_covid_data = covid_data.loc[((covid_data['country'] == 'Germany') \n",
    "                               | (covid_data['country'] == 'Spain')\n",
    "                               | (covid_data['country'] == 'France')\n",
    "             ### Agrupamento de Dados\n",
    "\n",
    "Agrupamos os dados dos vários países por continente                  | (covid_data['country'] == 'United Kingdom')\n",
    "                               | (covid_data['country'] == 'Italy')\n",
    "                               | (covid_data['country'] == 'Sweden'))]\n",
    "\n",
    "AM_covid_data = covid_data.loc[((covid_data['country'] == 'Argentina')\n",
    "                                | (covid_data['country'] == 'Canada')\n",
    "                                | (covid_data['country'] == 'Mexico')\n",
    "                                | (covid_data['country'] == 'US')\n",
    "                                | (covid_data['country'] == 'Brazil'))]\n",
    "\n",
    "AS_OC_covid_data = covid_data.loc[((covid_data['country'] == 'Indonesia')\n",
    "                               | (covid_data['country'] == 'India')\n",
    "                               | (covid_data['country'] == 'Japan')\n",
    "                               | (covid_data['country'] == 'South Korea')\n",
    "                               | (covid_data['country'] == 'Australia'))]\n",
    "\n",
    "AF_covid_data = covid_data.loc[((covid_data['country'] == 'South Africa') \n",
    "                                | (covid_data['country'] == 'Saudi Arabia')\n",
    "                                | (covid_data['country'] == 'Turkey'))]"
   ]
  },
  {
   "cell_type": "markdown",
   "metadata": {},
   "source": [
    "## Criação do Modelo\n",
    "\n",
    "Nesta secção treinamos a nossa SVM.\n",
    "\n",
    "### Divisão dos dados\n",
    "\n",
    "Dividimos os dados fornecidos para os testes e para o treino"
   ]
  },
  {
   "cell_type": "code",
   "execution_count": null,
   "metadata": {},
   "outputs": [],
   "source": [
    "X=EU_covid_data[predictors]\n",
    "Y1=EU_covid_data[\"total_cases\"]\n",
    "Y2=EU_covid_data[\"fatalities\"]\n",
    "\n",
    "\n",
    "X_train, X_test, y1_train, y1_test = train_test_split(X, Y1, test_size=0.30, random_state=40)\n",
    "X2_train, X2_test, y2_train, y2_test = train_test_split(X, Y2, test_size=0.30, random_state=40)"
   ]
  },
  {
   "cell_type": "markdown",
   "metadata": {},
   "source": [
    "### Treino do modelo \n",
    "\n",
    "Nesta secção treinamos o modelo com os dados para treino."
   ]
  },
  {
   "cell_type": "code",
   "execution_count": 2,
   "metadata": {},
   "outputs": [
    {
     "ename": "SyntaxError",
     "evalue": "invalid syntax (<ipython-input-2-ef37f1733a5b>, line 3)",
     "output_type": "error",
     "traceback": [
      "\u001b[1;36m  File \u001b[1;32m\"<ipython-input-2-ef37f1733a5b>\"\u001b[1;36m, line \u001b[1;32m3\u001b[0m\n\u001b[1;33m    Nesta secção treinamos o modelo com os dados para treino.\u001b[0m\n\u001b[1;37m               ^\u001b[0m\n\u001b[1;31mSyntaxError\u001b[0m\u001b[1;31m:\u001b[0m invalid syntax\n"
     ]
    }
   ],
   "source": [
    "from sklearn.svm import SVR\n",
    "SVRegression=SVR(kernel = 'poly',degree=11, coef0=2)\n",
    "SVRegression.fit(X_train,y1_train)"
   ]
  },
  {
   "cell_type": "code",
   "execution_count": null,
   "metadata": {},
   "outputs": [],
   "source": [
    "y_pred=SVRegression.predict(X_test)\n",
    "y_pred2=SVRegression.predict(X_train)"
   ]
  },
  {
   "cell_type": "markdown",
   "metadata": {},
   "source": [
    "### Score do treino"
   ]
  },
  {
   "cell_type": "code",
   "execution_count": null,
   "metadata": {
    "scrolled": true
   },
   "outputs": [],
   "source": [
    "print(mean_squared_error(y1_test,y_pred))\n",
    "print(r2_score(y1_test,y_pred))"
   ]
  },
  {
   "cell_type": "code",
   "execution_count": null,
   "metadata": {},
   "outputs": [],
   "source": [
    "print(mean_squared_error(y1_train,y_pred2))\n",
    "print(r2_score(y1_train,y_pred2))"
   ]
  },
  {
   "cell_type": "code",
   "execution_count": null,
   "metadata": {},
   "outputs": [],
   "source": [
    "SVRegression.fit(X2_train,y2_train)"
   ]
  },
  {
   "cell_type": "code",
   "execution_count": null,
   "metadata": {},
   "outputs": [],
   "source": [
    "y_pred=SVRegression.predict(X2_test)\n",
    "y_pred2=SVRegression.predict(X2_train)"
   ]
  },
  {
   "cell_type": "code",
   "execution_count": null,
   "metadata": {},
   "outputs": [],
   "source": [
    "print(mean_squared_error(y2_test,y_pred))\n",
    "print(r2_score(y2_test,y_pred))"
   ]
  },
  {
   "cell_type": "code",
   "execution_count": null,
   "metadata": {},
   "outputs": [],
   "source": [
    "print(mean_squared_error(y2_train,y_pred2))\n",
    "print(r2_score(y2_train,y_pred2))"
   ]
  },
  {
   "cell_type": "markdown",
   "metadata": {},
   "source": [
    "### Representação gráfica\n",
    "\n",
    "Nesta secção representamos os valores previstos da SVM para os vários valores de variação das localidades."
   ]
  },
  {
   "cell_type": "code",
   "execution_count": null,
   "metadata": {},
   "outputs": [],
   "source": [
    "test2_regr = ['date']\n",
    "\n",
    "SVRegression1=SVR(kernel = 'poly',degree=11, coef0=2)\n",
    "SVRegression1.fit(EU_covid_data[test2_regr],EU_covid_data[\"total_cases\"])\n",
    "\n",
    "SVRegression2=SVR(kernel = 'poly',degree=11, coef0=2)\n",
    "SVRegression2.fit(EU_covid_data[test2_regr],EU_covid_data[\"fatalities\"])"
   ]
  },
  {
   "cell_type": "code",
   "execution_count": null,
   "metadata": {},
   "outputs": [],
   "source": [
    "import numpy as np\n",
    "from sklearn.svm import SVR\n",
    "import matplotlib.pyplot as plt\n",
    "\n",
    "svr_rbf =SVR(kernel = 'rbf',C=100, gamma=0.1, epsilon=.1)\n",
    "svr_lin =SVR(kernel = 'linear',C=100, gamma='auto')\n",
    "svr_poly =SVR(kernel = 'poly',degree=11, coef0=2)\n",
    "\n",
    "test2_regr = ['date']\n",
    "X=EU_covid_data[test2_regr].values\n",
    "y=EU_covid_data['total_cases'].values\n",
    "\n",
    "\n",
    "\n",
    "lw = 2\n",
    "\n",
    "svrs = [svr_rbf, svr_lin, svr_poly]\n",
    "kernel_label = ['RBF', 'Linear', 'Polynomial']\n",
    "model_color = ['m', 'c', 'g']\n",
    "\n",
    "fig, axes = plt.subplots(nrows=1, ncols=3, figsize=(15, 10), sharey=True)\n",
    "for ix, svr in enumerate(svrs):\n",
    "    axes[ix].plot(X, svr.fit(X, y).predict(X), color=model_color[ix], lw=lw,\n",
    "                  label='{} model'.format(kernel_label[ix]))\n",
    "    axes[ix].scatter(X[svr.support_], y[svr.support_], facecolor=\"none\",\n",
    "                     edgecolor=model_color[ix], s=50,\n",
    "                     label='{} support vectors'.format(kernel_label[ix]))\n",
    "    axes[ix].scatter(X[np.setdiff1d(np.arange(len(X)), svr.support_)],\n",
    "                     y[np.setdiff1d(np.arange(len(X)), svr.support_)],\n",
    "                     facecolor=\"none\", edgecolor=\"k\", s=50)\n",
    "    axes[ix].legend(loc='upper center', bbox_to_anchor=(0.5, 1.1),\n",
    "                    ncol=1, fancybox=True, shadow=True)\n",
    "\n",
    "fig.text(0.5, 0.04, 'data', ha='center', va='center')\n",
    "fig.text(0.06, 0.5, 'target', ha='center', va='center', rotation='vertical')\n",
    "fig.suptitle(\"Support Vector Regression\", fontsize=14)\n",
    "plt.show()"
   ]
  }
 ],
 "metadata": {
  "kernelspec": {
   "display_name": "Python 3",
   "language": "python",
   "name": "python3"
  },
  "language_info": {
   "codemirror_mode": {
    "name": "ipython",
    "version": 3
   },
   "file_extension": ".py",
   "mimetype": "text/x-python",
   "name": "python",
   "nbconvert_exporter": "python",
   "pygments_lexer": "ipython3",
   "version": "3.7.6"
  }
 },
 "nbformat": 4,
 "nbformat_minor": 4
}
