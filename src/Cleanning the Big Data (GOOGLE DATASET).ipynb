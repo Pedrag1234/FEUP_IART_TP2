{
 "cells": [
  {
   "cell_type": "code",
   "execution_count": 223,
   "metadata": {},
   "outputs": [
    {
     "name": "stderr",
     "output_type": "stream",
     "text": [
      "C:\\Anaconda3\\lib\\site-packages\\IPython\\core\\interactiveshell.py:3063: DtypeWarning: Columns (3) have mixed types.Specify dtype option on import or set low_memory=False.\n",
      "  interactivity=interactivity, compiler=compiler, result=result)\n"
     ]
    }
   ],
   "source": [
    "import pandas as pd\n",
    "#matplotlib inline\n",
    "import matplotlib.pyplot as plt\n",
    "import seaborn as sb\n",
    "import sklearn\n",
    "from sklearn.neural_network import MLPClassifier\n",
    "from sklearn.neural_network import MLPRegressor\n",
    "import numpy as np\n",
    "\n",
    "# Import necessary modules\n",
    "from sklearn.model_selection import train_test_split\n",
    "from sklearn.metrics import mean_squared_error\n",
    "from math import sqrt\n",
    "from sklearn.metrics import r2_score\n",
    "\n",
    "covid_data = pd.read_csv('Global_Mobility_Report.csv',sep=\";\")"
   ]
  },
  {
   "cell_type": "code",
   "execution_count": 224,
   "metadata": {
    "scrolled": true
   },
   "outputs": [],
   "source": [
    "df2=covid_data.drop(['sub_region_2','sub_region_1'],axis=1)"
   ]
  },
  {
   "cell_type": "code",
   "execution_count": 225,
   "metadata": {
    "scrolled": true
   },
   "outputs": [
    {
     "data": {
      "text/plain": [
       "array(['AE', 'AF', 'AG', 'AO', 'AR', 'AT', 'AU', 'AW', 'BA', 'BB', 'BD',\n",
       "       'BE', 'BF', 'BG', 'BH', 'BJ', 'BO', 'BR', 'BS', 'BW', 'BY', 'BZ',\n",
       "       'CA', 'CH', 'CI', 'CL', 'CM', 'CO', 'CR', 'CV', 'CZ', 'DE', 'DK',\n",
       "       'DO', 'EC', 'EE', 'EG', 'ES', 'FI', 'FJ', 'FR', 'GA', 'GB', 'GE',\n",
       "       'GH', 'GR', 'GT', 'GW', 'HK', 'HN', 'HR', 'HT', 'HU', 'ID', 'IE',\n",
       "       'IL', 'IN', 'IQ', 'IT', 'JM', 'JO', 'JP', 'KE', 'KG', 'KH', 'KR',\n",
       "       'KW', 'KZ', 'LA', 'LB', 'LI', 'LK', 'LT', 'LU', 'LV', 'LY', 'MD',\n",
       "       'MK', 'ML', 'MM', 'MN', 'MT', 'MU', 'MX', 'MY', 'MZ', nan, 'NE',\n",
       "       'NG', 'NI', 'NL', 'NO', 'NP', 'NZ', 'OM', 'PA', 'PE', 'PG', 'PH',\n",
       "       'PK', 'PL', 'PR', 'PT', 'PY', 'QA', 'RE', 'RO', 'RW', 'SA', 'SE',\n",
       "       'SG', 'SI', 'SK', 'SN', 'SV', 'TG', 'TH', 'TJ', 'TR', 'TT', 'TW',\n",
       "       'TZ', 'UG', 'US', 'UY', 'VE', 'VN', 'YE', 'ZA', 'ZM', 'ZW'],\n",
       "      dtype=object)"
      ]
     },
     "execution_count": 225,
     "metadata": {},
     "output_type": "execute_result"
    }
   ],
   "source": [
    "df2.isso.unique()"
   ]
  },
  {
   "cell_type": "code",
   "execution_count": 226,
   "metadata": {},
   "outputs": [],
   "source": [
    "df = df2.dropna(subset=['isso'])\n",
    "df=df.reset_index()\n",
    "df=df.drop(['index'],axis=1)"
   ]
  },
  {
   "cell_type": "code",
   "execution_count": 227,
   "metadata": {},
   "outputs": [
    {
     "data": {
      "text/plain": [
       "isso                      0\n",
       "country                   0\n",
       "date                      0\n",
       "retail_recreation     25337\n",
       "grocery_pharmacy      31134\n",
       "parks                130030\n",
       "transit_stations     108482\n",
       "workplaces            10271\n",
       "residential           99258\n",
       "dtype: int64"
      ]
     },
     "execution_count": 227,
     "metadata": {},
     "output_type": "execute_result"
    }
   ],
   "source": [
    "df.isnull().sum()"
   ]
  },
  {
   "cell_type": "code",
   "execution_count": 228,
   "metadata": {},
   "outputs": [],
   "source": [
    "choices=['EU','AM_N','AM_S','AF','AS','OC']"
   ]
  },
  {
   "cell_type": "code",
   "execution_count": 229,
   "metadata": {},
   "outputs": [],
   "source": [
    "conditions = [\n",
    "    (df['isso'] == 'AT') | (df['isso'] == 'BA') | (df['isso'] == 'BE') |  (df['isso'] == 'BG')\n",
    "    | (df['isso'] == 'BY')| (df['isso'] == 'CH') | (df['isso'] == 'CZ') | (df['isso'] == 'DE') | (df['isso'] == 'DK') \n",
    "    | (df['isso'] == 'EE') | (df['isso'] == 'ES') | (df['isso'] == 'FI') | (df['isso'] == 'FR') | (df['isso'] == 'GB') \n",
    "    | (df['isso'] == 'GE') | (df['isso'] == 'GR') | (df['isso'] == 'HR') | (df['isso'] == 'HU') | (df['isso'] == 'IE')\n",
    "    | (df['isso'] == 'IT') | (df['isso'] == 'LI')| (df['isso'] == 'LT')| (df['isso'] == 'LU') | (df['isso'] == 'LV')\n",
    "    | (df['isso'] == 'MD') | (df['isso'] == 'MK')| (df['isso'] == 'MT') | (df['isso'] == 'NL')| (df['isso'] == 'NO')\n",
    "    | (df['isso'] == 'PL')| (df['isso'] == 'PT')| (df['isso'] == 'RO')| (df['isso'] == 'SE')| (df['isso'] == 'SI')\n",
    "    | (df['isso'] == 'SK'),\n",
    "    (df['isso'] == 'AG') | (df['isso'] == 'BB')| (df['isso'] == 'BS')| (df['isso'] == 'BZ')\n",
    "    | (df['isso'] == 'CA') | (df['isso'] == 'HT') | (df['isso'] == 'JM')| (df['isso'] == 'NI') | (df['isso'] == 'PR')\n",
    "    | (df['isso'] == 'US'),\n",
    "    (df['isso'] == 'AR') | (df['isso'] == 'AW')| (df['isso'] == 'BO')| (df['isso'] == 'BR')\n",
    "    | (df['isso'] == 'CL')| (df['isso'] == 'CO')| (df['isso'] == 'CR') | (df['isso'] == 'DO') | (df['isso'] == 'EC') \n",
    "    | (df['isso'] == 'GT') | (df['isso'] == 'HN')| (df['isso'] == 'MX')| (df['isso'] == 'PA')| (df['isso'] == 'PE')\n",
    "    | (df['isso'] == 'PY')| (df['isso'] == 'SV')| (df['isso'] == 'TT')| (df['isso'] == 'UY') | (df['isso'] == 'VE'),\n",
    "    (df['isso'] == 'AO') |(df['isso'] == 'BF') | (df['isso'] == 'BJ') | (df['isso'] == 'BW')\n",
    "    | (df['isso'] == 'CI') | (df['isso'] == 'CM') | (df['isso'] == 'CV')| (df['isso'] == 'EG') | (df['isso'] == 'GA') \n",
    "    | (df['isso'] == 'GH') | (df['isso'] == 'GW') | (df['isso'] == 'KE') | (df['isso'] == 'LY') | (df['isso'] == 'ML')\n",
    "    | (df['isso'] == 'MU')| (df['isso'] == 'MZ')| (df['isso'] == 'NE')| (df['isso'] == 'NG') | (df['isso'] == 'RE')\n",
    "    | (df['isso'] == 'RW')| (df['isso'] == 'SN')| (df['isso'] == 'TG')| (df['isso'] == 'TZ')| (df['isso'] == 'UG')\n",
    "    | (df['isso'] == 'ZA')| (df['isso'] == 'ZM')| (df['isso'] == 'ZW'),\n",
    "    (df['isso'] == 'AE') | (df['isso'] == 'AF') | (df['isso'] == 'BD') | (df['isso'] == 'BH')\n",
    "    | (df['isso'] == 'HK') | (df['isso'] == 'ID') | (df['isso'] == 'IL')| (df['isso'] == 'IN')| (df['isso'] == 'IQ')\n",
    "    | (df['isso'] == 'JO')| (df['isso'] == 'JP')| (df['isso'] == 'KG')| (df['isso'] == 'KH')| (df['isso'] == 'KR')\n",
    "    | (df['isso'] == 'KW')| (df['isso'] == 'KZ')| (df['isso'] == 'LA')| (df['isso'] == 'LB')| (df['isso'] == 'LK')\n",
    "    | (df['isso'] == 'MM')| (df['isso'] == 'MN') | (df['isso'] == 'MY')| (df['isso'] == 'NP')| (df['isso'] == 'OM')\n",
    "    | (df['isso'] == 'PH')| (df['isso'] == 'PK')| (df['isso'] == 'QA')| (df['isso'] == 'SA')| (df['isso'] == 'SG')\n",
    "    | (df['isso'] == 'TH')| (df['isso'] == 'TJ')| (df['isso'] == 'TR')| (df['isso'] == 'TW')| (df['isso'] == 'VN')\n",
    "    | (df['isso'] == 'YE'),\n",
    "    (df['isso'] == 'AU')| (df['isso'] == 'FJ') | (df['isso'] == 'NZ')| (df['isso'] == 'PG')]"
   ]
  },
  {
   "cell_type": "code",
   "execution_count": 230,
   "metadata": {
    "scrolled": true
   },
   "outputs": [],
   "source": [
    "df['continent'] = np.select(conditions,choices)"
   ]
  },
  {
   "cell_type": "code",
   "execution_count": 231,
   "metadata": {},
   "outputs": [],
   "source": [
    "df_=df"
   ]
  },
  {
   "cell_type": "code",
   "execution_count": 232,
   "metadata": {},
   "outputs": [
    {
     "data": {
      "text/plain": [
       "array(['AS', 'AM_N', 'AF', 'AM_S', 'EU', 'OC'], dtype=object)"
      ]
     },
     "execution_count": 232,
     "metadata": {},
     "output_type": "execute_result"
    }
   ],
   "source": [
    "df.continent.unique()"
   ]
  },
  {
   "cell_type": "code",
   "execution_count": 233,
   "metadata": {},
   "outputs": [
    {
     "data": {
      "text/html": [
       "<div>\n",
       "<style scoped>\n",
       "    .dataframe tbody tr th:only-of-type {\n",
       "        vertical-align: middle;\n",
       "    }\n",
       "\n",
       "    .dataframe tbody tr th {\n",
       "        vertical-align: top;\n",
       "    }\n",
       "\n",
       "    .dataframe thead th {\n",
       "        text-align: right;\n",
       "    }\n",
       "</style>\n",
       "<table border=\"1\" class=\"dataframe\">\n",
       "  <thead>\n",
       "    <tr style=\"text-align: right;\">\n",
       "      <th></th>\n",
       "      <th></th>\n",
       "      <th>retail_recreation</th>\n",
       "      <th>grocery_pharmacy</th>\n",
       "      <th>parks</th>\n",
       "      <th>transit_stations</th>\n",
       "      <th>workplaces</th>\n",
       "      <th>residential</th>\n",
       "    </tr>\n",
       "    <tr>\n",
       "      <th>date</th>\n",
       "      <th>continent</th>\n",
       "      <th></th>\n",
       "      <th></th>\n",
       "      <th></th>\n",
       "      <th></th>\n",
       "      <th></th>\n",
       "      <th></th>\n",
       "    </tr>\n",
       "  </thead>\n",
       "  <tbody>\n",
       "    <tr>\n",
       "      <th rowspan=\"5\" valign=\"top\">01/03/2020</th>\n",
       "      <th>AF</th>\n",
       "      <td>3.0</td>\n",
       "      <td>3.0</td>\n",
       "      <td>0.0</td>\n",
       "      <td>3.0</td>\n",
       "      <td>6.0</td>\n",
       "      <td>-1.0</td>\n",
       "    </tr>\n",
       "    <tr>\n",
       "      <th>AM_N</th>\n",
       "      <td>19.0</td>\n",
       "      <td>11.0</td>\n",
       "      <td>24.0</td>\n",
       "      <td>11.0</td>\n",
       "      <td>3.0</td>\n",
       "      <td>-2.0</td>\n",
       "    </tr>\n",
       "    <tr>\n",
       "      <th>AM_S</th>\n",
       "      <td>1.0</td>\n",
       "      <td>6.5</td>\n",
       "      <td>-6.0</td>\n",
       "      <td>-1.0</td>\n",
       "      <td>2.0</td>\n",
       "      <td>1.0</td>\n",
       "    </tr>\n",
       "    <tr>\n",
       "      <th>AS</th>\n",
       "      <td>-2.0</td>\n",
       "      <td>7.0</td>\n",
       "      <td>-2.0</td>\n",
       "      <td>-8.0</td>\n",
       "      <td>4.0</td>\n",
       "      <td>2.0</td>\n",
       "    </tr>\n",
       "    <tr>\n",
       "      <th>EU</th>\n",
       "      <td>5.0</td>\n",
       "      <td>3.0</td>\n",
       "      <td>6.5</td>\n",
       "      <td>5.0</td>\n",
       "      <td>1.0</td>\n",
       "      <td>0.0</td>\n",
       "    </tr>\n",
       "    <tr>\n",
       "      <th>...</th>\n",
       "      <th>...</th>\n",
       "      <td>...</td>\n",
       "      <td>...</td>\n",
       "      <td>...</td>\n",
       "      <td>...</td>\n",
       "      <td>...</td>\n",
       "      <td>...</td>\n",
       "    </tr>\n",
       "    <tr>\n",
       "      <th rowspan=\"5\" valign=\"top\">31/03/2020</th>\n",
       "      <th>AM_N</th>\n",
       "      <td>-35.0</td>\n",
       "      <td>-12.0</td>\n",
       "      <td>-12.0</td>\n",
       "      <td>-25.0</td>\n",
       "      <td>-38.0</td>\n",
       "      <td>17.0</td>\n",
       "    </tr>\n",
       "    <tr>\n",
       "      <th>AM_S</th>\n",
       "      <td>-65.0</td>\n",
       "      <td>-38.0</td>\n",
       "      <td>-61.5</td>\n",
       "      <td>-67.0</td>\n",
       "      <td>-50.0</td>\n",
       "      <td>22.5</td>\n",
       "    </tr>\n",
       "    <tr>\n",
       "      <th>AS</th>\n",
       "      <td>-34.0</td>\n",
       "      <td>-16.0</td>\n",
       "      <td>-25.0</td>\n",
       "      <td>-36.0</td>\n",
       "      <td>-28.0</td>\n",
       "      <td>12.0</td>\n",
       "    </tr>\n",
       "    <tr>\n",
       "      <th>EU</th>\n",
       "      <td>-70.0</td>\n",
       "      <td>-28.0</td>\n",
       "      <td>-27.5</td>\n",
       "      <td>-62.0</td>\n",
       "      <td>-54.0</td>\n",
       "      <td>23.0</td>\n",
       "    </tr>\n",
       "    <tr>\n",
       "      <th>OC</th>\n",
       "      <td>-85.5</td>\n",
       "      <td>-36.5</td>\n",
       "      <td>-64.5</td>\n",
       "      <td>-71.5</td>\n",
       "      <td>-62.5</td>\n",
       "      <td>21.0</td>\n",
       "    </tr>\n",
       "  </tbody>\n",
       "</table>\n",
       "<p>378 rows × 6 columns</p>\n",
       "</div>"
      ],
      "text/plain": [
       "                      retail_recreation  grocery_pharmacy  parks  \\\n",
       "date       continent                                               \n",
       "01/03/2020 AF                       3.0               3.0    0.0   \n",
       "           AM_N                    19.0              11.0   24.0   \n",
       "           AM_S                     1.0               6.5   -6.0   \n",
       "           AS                      -2.0               7.0   -2.0   \n",
       "           EU                       5.0               3.0    6.5   \n",
       "...                                 ...               ...    ...   \n",
       "31/03/2020 AM_N                   -35.0             -12.0  -12.0   \n",
       "           AM_S                   -65.0             -38.0  -61.5   \n",
       "           AS                     -34.0             -16.0  -25.0   \n",
       "           EU                     -70.0             -28.0  -27.5   \n",
       "           OC                     -85.5             -36.5  -64.5   \n",
       "\n",
       "                      transit_stations  workplaces  residential  \n",
       "date       continent                                             \n",
       "01/03/2020 AF                      3.0         6.0         -1.0  \n",
       "           AM_N                   11.0         3.0         -2.0  \n",
       "           AM_S                   -1.0         2.0          1.0  \n",
       "           AS                     -8.0         4.0          2.0  \n",
       "           EU                      5.0         1.0          0.0  \n",
       "...                                ...         ...          ...  \n",
       "31/03/2020 AM_N                  -25.0       -38.0         17.0  \n",
       "           AM_S                  -67.0       -50.0         22.5  \n",
       "           AS                    -36.0       -28.0         12.0  \n",
       "           EU                    -62.0       -54.0         23.0  \n",
       "           OC                    -71.5       -62.5         21.0  \n",
       "\n",
       "[378 rows x 6 columns]"
      ]
     },
     "execution_count": 233,
     "metadata": {},
     "output_type": "execute_result"
    }
   ],
   "source": [
    "med = df.groupby(['date','continent']).median()\n",
    "med"
   ]
  },
  {
   "cell_type": "code",
   "execution_count": 234,
   "metadata": {
    "scrolled": true
   },
   "outputs": [],
   "source": [
    "df_rr=df.set_index(['date','continent'])['retail_recreation'].fillna(med.retail_recreation)\n",
    "df_gp=df.set_index(['date','continent'])['grocery_pharmacy'].fillna(med.grocery_pharmacy)\n",
    "df_pk=df.set_index(['date','continent'])['parks'].fillna(med.parks)\n",
    "df_ts=df.set_index(['date','continent'])['transit_stations'].fillna(med.transit_stations)\n",
    "df_wp=df.set_index(['date','continent'])['workplaces'].fillna(med.workplaces)\n",
    "df_re=df.set_index(['date','continent'])['residential'].fillna(med.residential)\n",
    "\n"
   ]
  },
  {
   "cell_type": "code",
   "execution_count": 235,
   "metadata": {},
   "outputs": [],
   "source": [
    "df_rr=df_rr.reset_index()\n",
    "df_gp=df_gp.reset_index()\n",
    "df_pk=df_pk.reset_index()\n",
    "df_ts=df_ts.reset_index()\n",
    "df_wp=df_wp.reset_index()\n",
    "df_re=df_re.reset_index()"
   ]
  },
  {
   "cell_type": "code",
   "execution_count": 236,
   "metadata": {
    "scrolled": true
   },
   "outputs": [
    {
     "data": {
      "text/plain": [
       "230765"
      ]
     },
     "execution_count": 236,
     "metadata": {},
     "output_type": "execute_result"
    }
   ],
   "source": [
    "len(df_rr['retail_recreation'])"
   ]
  },
  {
   "cell_type": "code",
   "execution_count": 237,
   "metadata": {},
   "outputs": [],
   "source": [
    "df['retail_recreation']=df_rr['retail_recreation']\n",
    "df['grocery_pharmacy']=df_gp['grocery_pharmacy']\n",
    "df['parks']=df_pk['parks']\n",
    "df['transit_stations']=df_ts['transit_stations']\n",
    "df['workplaces']=df_wp['workplaces']\n",
    "df['residential']=df_re['residential']"
   ]
  },
  {
   "cell_type": "code",
   "execution_count": 238,
   "metadata": {},
   "outputs": [
    {
     "data": {
      "text/plain": [
       "isso                 0\n",
       "country              0\n",
       "date                 0\n",
       "retail_recreation    0\n",
       "grocery_pharmacy     0\n",
       "parks                0\n",
       "transit_stations     0\n",
       "workplaces           0\n",
       "residential          0\n",
       "continent            0\n",
       "dtype: int64"
      ]
     },
     "execution_count": 238,
     "metadata": {},
     "output_type": "execute_result"
    }
   ],
   "source": [
    "df.isnull().sum()"
   ]
  },
  {
   "cell_type": "code",
   "execution_count": null,
   "metadata": {},
   "outputs": [],
   "source": []
  }
 ],
 "metadata": {
  "kernelspec": {
   "display_name": "Python 3",
   "language": "python",
   "name": "python3"
  },
  "language_info": {
   "codemirror_mode": {
    "name": "ipython",
    "version": 3
   },
   "file_extension": ".py",
   "mimetype": "text/x-python",
   "name": "python",
   "nbconvert_exporter": "python",
   "pygments_lexer": "ipython3",
   "version": "3.7.3"
  }
 },
 "nbformat": 4,
 "nbformat_minor": 4
}
