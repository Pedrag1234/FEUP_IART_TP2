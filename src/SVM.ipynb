{
 "cells": [
  {
   "cell_type": "code",
   "execution_count": 1,
   "metadata": {},
   "outputs": [],
   "source": [
    "import pandas as pd\n",
    "#matplotlib inline\n",
    "import matplotlib.pyplot as plt\n",
    "import seaborn as sb\n",
    "import sklearn\n",
    "from sklearn.neural_network import MLPClassifier\n",
    "from sklearn.neural_network import MLPRegressor\n",
    "\n",
    "# Import necessary modules\n",
    "from sklearn.model_selection import train_test_split\n",
    "from sklearn.metrics import mean_squared_error\n",
    "from math import sqrt\n",
    "from sklearn.metrics import r2_score\n",
    "\n",
    "covid_data = pd.read_csv('google_new3.csv',sep=\";\")\n"
   ]
  },
  {
   "cell_type": "code",
   "execution_count": 2,
   "metadata": {},
   "outputs": [
    {
     "name": "stdout",
     "output_type": "stream",
     "text": [
      "Index(['iso', 'country', 'date', 'grocery_pharmacy', 'parks', 'residential',\n",
      "       'retail_recreation', 'transit_stations', 'workplaces', 'total_cases',\n",
      "       'fatalities'],\n",
      "      dtype='object')\n"
     ]
    },
    {
     "data": {
      "text/html": [
       "<div>\n",
       "<style scoped>\n",
       "    .dataframe tbody tr th:only-of-type {\n",
       "        vertical-align: middle;\n",
       "    }\n",
       "\n",
       "    .dataframe tbody tr th {\n",
       "        vertical-align: top;\n",
       "    }\n",
       "\n",
       "    .dataframe thead th {\n",
       "        text-align: right;\n",
       "    }\n",
       "</style>\n",
       "<table border=\"1\" class=\"dataframe\">\n",
       "  <thead>\n",
       "    <tr style=\"text-align: right;\">\n",
       "      <th></th>\n",
       "      <th>count</th>\n",
       "      <th>mean</th>\n",
       "      <th>std</th>\n",
       "      <th>min</th>\n",
       "      <th>25%</th>\n",
       "      <th>50%</th>\n",
       "      <th>75%</th>\n",
       "      <th>max</th>\n",
       "    </tr>\n",
       "  </thead>\n",
       "  <tbody>\n",
       "    <tr>\n",
       "      <th>date</th>\n",
       "      <td>817.0</td>\n",
       "      <td>22.000000</td>\n",
       "      <td>12.417275</td>\n",
       "      <td>1.000</td>\n",
       "      <td>11.000</td>\n",
       "      <td>22.000</td>\n",
       "      <td>33.000</td>\n",
       "      <td>43.000</td>\n",
       "    </tr>\n",
       "    <tr>\n",
       "      <th>grocery_pharmacy</th>\n",
       "      <td>817.0</td>\n",
       "      <td>-8.229424</td>\n",
       "      <td>21.313369</td>\n",
       "      <td>-84.798</td>\n",
       "      <td>-16.578</td>\n",
       "      <td>0.088</td>\n",
       "      <td>4.838</td>\n",
       "      <td>59.474</td>\n",
       "    </tr>\n",
       "    <tr>\n",
       "      <th>parks</th>\n",
       "      <td>817.0</td>\n",
       "      <td>-13.394035</td>\n",
       "      <td>32.891636</td>\n",
       "      <td>-91.456</td>\n",
       "      <td>-32.841</td>\n",
       "      <td>-6.498</td>\n",
       "      <td>6.961</td>\n",
       "      <td>75.002</td>\n",
       "    </tr>\n",
       "    <tr>\n",
       "      <th>residential</th>\n",
       "      <td>817.0</td>\n",
       "      <td>9.545845</td>\n",
       "      <td>10.545377</td>\n",
       "      <td>-3.647</td>\n",
       "      <td>0.744</td>\n",
       "      <td>5.912</td>\n",
       "      <td>16.695</td>\n",
       "      <td>40.343</td>\n",
       "    </tr>\n",
       "    <tr>\n",
       "      <th>retail_recreation</th>\n",
       "      <td>817.0</td>\n",
       "      <td>-26.205257</td>\n",
       "      <td>30.992728</td>\n",
       "      <td>-95.158</td>\n",
       "      <td>-49.975</td>\n",
       "      <td>-14.427</td>\n",
       "      <td>-0.632</td>\n",
       "      <td>19.699</td>\n",
       "    </tr>\n",
       "    <tr>\n",
       "      <th>transit_stations</th>\n",
       "      <td>817.0</td>\n",
       "      <td>-28.370122</td>\n",
       "      <td>30.211025</td>\n",
       "      <td>-88.956</td>\n",
       "      <td>-54.145</td>\n",
       "      <td>-19.502</td>\n",
       "      <td>-0.970</td>\n",
       "      <td>16.822</td>\n",
       "    </tr>\n",
       "    <tr>\n",
       "      <th>workplaces</th>\n",
       "      <td>817.0</td>\n",
       "      <td>-19.126192</td>\n",
       "      <td>25.983021</td>\n",
       "      <td>-79.293</td>\n",
       "      <td>-40.582</td>\n",
       "      <td>-8.395</td>\n",
       "      <td>1.037</td>\n",
       "      <td>21.347</td>\n",
       "    </tr>\n",
       "    <tr>\n",
       "      <th>total_cases</th>\n",
       "      <td>817.0</td>\n",
       "      <td>10699.773562</td>\n",
       "      <td>31656.464952</td>\n",
       "      <td>0.000</td>\n",
       "      <td>27.000</td>\n",
       "      <td>648.000</td>\n",
       "      <td>4585.000</td>\n",
       "      <td>336912.000</td>\n",
       "    </tr>\n",
       "    <tr>\n",
       "      <th>fatalities</th>\n",
       "      <td>817.0</td>\n",
       "      <td>566.007344</td>\n",
       "      <td>2008.520488</td>\n",
       "      <td>0.000</td>\n",
       "      <td>0.000</td>\n",
       "      <td>6.000</td>\n",
       "      <td>79.000</td>\n",
       "      <td>15887.000</td>\n",
       "    </tr>\n",
       "  </tbody>\n",
       "</table>\n",
       "</div>"
      ],
      "text/plain": [
       "                   count          mean           std     min     25%      50%  \\\n",
       "date               817.0     22.000000     12.417275   1.000  11.000   22.000   \n",
       "grocery_pharmacy   817.0     -8.229424     21.313369 -84.798 -16.578    0.088   \n",
       "parks              817.0    -13.394035     32.891636 -91.456 -32.841   -6.498   \n",
       "residential        817.0      9.545845     10.545377  -3.647   0.744    5.912   \n",
       "retail_recreation  817.0    -26.205257     30.992728 -95.158 -49.975  -14.427   \n",
       "transit_stations   817.0    -28.370122     30.211025 -88.956 -54.145  -19.502   \n",
       "workplaces         817.0    -19.126192     25.983021 -79.293 -40.582   -8.395   \n",
       "total_cases        817.0  10699.773562  31656.464952   0.000  27.000  648.000   \n",
       "fatalities         817.0    566.007344   2008.520488   0.000   0.000    6.000   \n",
       "\n",
       "                        75%         max  \n",
       "date                 33.000      43.000  \n",
       "grocery_pharmacy      4.838      59.474  \n",
       "parks                 6.961      75.002  \n",
       "residential          16.695      40.343  \n",
       "retail_recreation    -0.632      19.699  \n",
       "transit_stations     -0.970      16.822  \n",
       "workplaces            1.037      21.347  \n",
       "total_cases        4585.000  336912.000  \n",
       "fatalities           79.000   15887.000  "
      ]
     },
     "execution_count": 2,
     "metadata": {},
     "output_type": "execute_result"
    }
   ],
   "source": [
    "str_column =['iso','country','residential']\n",
    "target_column = ['total_cases','fatalities'] \n",
    "predictors = list(set(list(covid_data.columns))-set(target_column)-set(str_column))\n",
    "covid_data[predictors] = covid_data[predictors]\n",
    "print(covid_data.columns)\n",
    "covid_data.describe().transpose()"
   ]
  },
  {
   "cell_type": "code",
   "execution_count": 3,
   "metadata": {},
   "outputs": [],
   "source": [
    "EU_covid_data = covid_data.loc[((covid_data['country'] == 'Germany') \n",
    "                               | (covid_data['country'] == 'Spain')\n",
    "                               | (covid_data['country'] == 'France')\n",
    "                               | (covid_data['country'] == 'United Kingdom')\n",
    "                               | (covid_data['country'] == 'Italy')\n",
    "                               | (covid_data['country'] == 'Sweden'))]\n",
    "\n",
    "AM_covid_data = covid_data.loc[((covid_data['country'] == 'Argentina')\n",
    "                                | (covid_data['country'] == 'Canada')\n",
    "                                | (covid_data['country'] == 'Mexico')\n",
    "                                | (covid_data['country'] == 'US')\n",
    "                                | (covid_data['country'] == 'Brazil'))]\n",
    "\n",
    "AS_OC_covid_data = covid_data.loc[((covid_data['country'] == 'Indonesia')\n",
    "                               | (covid_data['country'] == 'India')\n",
    "                               | (covid_data['country'] == 'Japan')\n",
    "                               | (covid_data['country'] == 'South Korea')\n",
    "                               | (covid_data['country'] == 'Australia'))]\n",
    "\n",
    "AF_covid_data = covid_data.loc[((covid_data['country'] == 'South Africa') \n",
    "                                | (covid_data['country'] == 'Saudi Arabia')\n",
    "                                | (covid_data['country'] == 'Turkey'))]"
   ]
  },
  {
   "cell_type": "code",
   "execution_count": 4,
   "metadata": {},
   "outputs": [],
   "source": [
    "X=EU_covid_data[predictors]\n",
    "Y1=EU_covid_data[\"total_cases\"]\n",
    "Y2=EU_covid_data[\"fatalities\"]\n",
    "\n",
    "\n",
    "X_train, X_test, y1_train, y1_test = train_test_split(X, Y1, test_size=0.30, random_state=40)\n",
    "X2_train, X2_test, y2_train, y2_test = train_test_split(X, Y2, test_size=0.30, random_state=40)"
   ]
  },
  {
   "cell_type": "code",
   "execution_count": 49,
   "metadata": {},
   "outputs": [
    {
     "data": {
      "text/plain": [
       "SVR(C=1.0, cache_size=200, coef0=2, degree=11, epsilon=0.1, gamma='scale',\n",
       "    kernel='poly', max_iter=-1, shrinking=True, tol=0.001, verbose=False)"
      ]
     },
     "execution_count": 49,
     "metadata": {},
     "output_type": "execute_result"
    }
   ],
   "source": [
    "from sklearn.svm import SVR\n",
    "SVRegression=SVR(kernel = 'poly',degree=11, coef0=2)\n",
    "SVRegression.fit(X_train,y1_train)"
   ]
  },
  {
   "cell_type": "code",
   "execution_count": 50,
   "metadata": {},
   "outputs": [],
   "source": [
    "y_pred=SVRegression.predict(X_test)\n",
    "y_pred2=SVRegression.predict(X_train)"
   ]
  },
  {
   "cell_type": "code",
   "execution_count": 51,
   "metadata": {
    "scrolled": true
   },
   "outputs": [
    {
     "name": "stdout",
     "output_type": "stream",
     "text": [
      "84191930.07191741\n",
      "0.9275744103773481\n"
     ]
    }
   ],
   "source": [
    "print(mean_squared_error(y1_test,y_pred))\n",
    "print(r2_score(y1_test,y_pred))"
   ]
  },
  {
   "cell_type": "code",
   "execution_count": 52,
   "metadata": {},
   "outputs": [
    {
     "name": "stdout",
     "output_type": "stream",
     "text": [
      "34363210.926202886\n",
      "0.9664833743922663\n"
     ]
    }
   ],
   "source": [
    "print(mean_squared_error(y1_train,y_pred2))\n",
    "print(r2_score(y1_train,y_pred2))"
   ]
  },
  {
   "cell_type": "code",
   "execution_count": 53,
   "metadata": {},
   "outputs": [
    {
     "data": {
      "text/plain": [
       "SVR(C=1.0, cache_size=200, coef0=2, degree=11, epsilon=0.1, gamma='scale',\n",
       "    kernel='poly', max_iter=-1, shrinking=True, tol=0.001, verbose=False)"
      ]
     },
     "execution_count": 53,
     "metadata": {},
     "output_type": "execute_result"
    }
   ],
   "source": [
    "SVRegression.fit(X2_train,y2_train)"
   ]
  },
  {
   "cell_type": "code",
   "execution_count": 54,
   "metadata": {},
   "outputs": [],
   "source": [
    "y_pred=SVRegression.predict(X2_test)\n",
    "y_pred2=SVRegression.predict(X2_train)"
   ]
  },
  {
   "cell_type": "code",
   "execution_count": 55,
   "metadata": {},
   "outputs": [
    {
     "name": "stdout",
     "output_type": "stream",
     "text": [
      "609610.8153243484\n",
      "0.9493613826626436\n"
     ]
    }
   ],
   "source": [
    "print(mean_squared_error(y2_test,y_pred))\n",
    "print(r2_score(y2_test,y_pred))"
   ]
  },
  {
   "cell_type": "code",
   "execution_count": 56,
   "metadata": {},
   "outputs": [
    {
     "name": "stdout",
     "output_type": "stream",
     "text": [
      "19479.852941346646\n",
      "0.9979255444868984\n"
     ]
    }
   ],
   "source": [
    "print(mean_squared_error(y2_train,y_pred2))\n",
    "print(r2_score(y2_train,y_pred2))"
   ]
  }
 ],
 "metadata": {
  "kernelspec": {
   "display_name": "Python 3",
   "language": "python",
   "name": "python3"
  },
  "language_info": {
   "codemirror_mode": {
    "name": "ipython",
    "version": 3
   },
   "file_extension": ".py",
   "mimetype": "text/x-python",
   "name": "python",
   "nbconvert_exporter": "python",
   "pygments_lexer": "ipython3",
   "version": "3.7.6"
  }
 },
 "nbformat": 4,
 "nbformat_minor": 4
}
